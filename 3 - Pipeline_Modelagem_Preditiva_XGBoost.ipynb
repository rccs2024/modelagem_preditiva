{
 "cells": [
  {
   "cell_type": "markdown",
   "metadata": {},
   "source": [
    "# 📌 Predição de Evasão de Alunos em Cursos de Graduação"
   ]
  },
  {
   "cell_type": "markdown",
   "metadata": {},
   "source": [
    "## 1 - Introdução\n",
    "\n",
    "A evasão de alunos em cursos de graduação é um problema significativo no ensino superior, impactando instituições acadêmicas e políticas educacionais. Identificar padrões e prever quais alunos têm maior probabilidade de evadir pode permitir a implementação de estratégias preventivas e aumentar as taxas de retenção.\n",
    "\n",
    "Este estudo tem como objetivo desenvolver um modelo de aprendizado de máquina capaz de prever a evasão de alunos com base em informações acadêmicas e demográficas. Os dados utilizados foram extraídos do **Sistema Integrado de Gestão de Atividades Acadêmicas (SIGAA)** e incluem um conjunto de 5.042 alunos dos cursos de **Ciência da Computação, Enfermagem e Ciência e Tecnologia** que frequentaram o turno **vespertino** de forma **presencial** em uma universidade pública brasileira.\n",
    "\n",
    "O período analisado abrange ingressos entre **2011 e 2024**, e o foco do estudo está na construção de um modelo preditivo interpretável, que possa auxiliar na tomada de decisão acadêmica.\n",
    "\n",
    "📌 Observação Importante:\n",
    "\n",
    "Neste estudo, o foco não está apenas em maximizar a acurácia geral do modelo, mas sim em adotar uma **estratégia de decisão consciente**, voltada para **Alta Precisão na previsão de alunos concluintes**.\n",
    "\n",
    "Essa abordagem visa garantir que, ao prever que um aluno irá concluir o curso, essa predição seja feita com alta confiança — evitando falsos positivos, que no contexto institucional representam alunos em risco de evasão sendo classificados erroneamente como \"seguros\".\n",
    "\n",
    "Para isso, **foram realizados ajustes no threshold de decisão** do modelo, priorizando a **redução de falsos positivos**, mesmo que isso implique em perder parte dos concluintes verdadeiros.\n",
    "\n",
    "---\n"
   ]
  },
  {
   "cell_type": "markdown",
   "metadata": {},
   "source": [
    "### 1.1 -  Bibliotecas Utilizadas\n",
    "\n",
    "Para realizar a análise e modelagem preditiva da evasão de alunos, utilizamos diversas bibliotecas do ecossistema Python. Abaixo estão as principais bibliotecas e suas funções no projeto:\n",
    "\n",
    "- **numpy** e **pandas**: Manipulação e análise de dados.\n",
    "- **matplotlib**, **seaborn** e **plotly**: Visualização de dados.\n",
    "- **sklearn.preprocessing**: Transformação e padronização dos dados.\n",
    "- **imbalanced-learn**: Técnicas de balanceamento de dados, como o SMOTE.\n",
    "- **sklearn.model_selection**: Divisão dos dados em treino e teste, além de validação cruzada.\n",
    "- **sklearn.metrics**: Avaliação de modelos preditivos.\n",
    "- **sklearn.ensemble**: Algoritmos de aprendizado de máquina, como Random Forest.\n",
    "- **xgboost**: Implementação otimizada do algoritmo Gradient Boosting.\n",
    "- **joblib**: Salvamento e carregamento de modelos treinados.\n",
    "\n",
    "---\n"
   ]
  },
  {
   "cell_type": "code",
   "execution_count": 1,
   "metadata": {},
   "outputs": [],
   "source": [
    "import numpy   as np\n",
    "import pandas  as pd\n",
    "import matplotlib.pyplot as plt\n",
    "import seaborn as sns\n",
    "import plotly.express as px\n",
    "from sklearn.preprocessing import LabelEncoder\n",
    "from sklearn.preprocessing import StandardScaler\n",
    "from sklearn.model_selection import train_test_split\n",
    "from sklearn.metrics import classification_report, confusion_matrix\n",
    "from sklearn.metrics import ConfusionMatrixDisplay, confusion_matrix\n",
    "from sklearn.model_selection import cross_val_predict, StratifiedKFold\n",
    "from sklearn.metrics import precision_recall_curve\n",
    "from sklearn.tree import DecisionTreeClassifier\n",
    "from sklearn.ensemble import RandomForestClassifier\n",
    "from sklearn.linear_model import LogisticRegression\n",
    "from xgboost import XGBClassifier\n",
    "from sklearn.model_selection import StratifiedKFold, cross_val_score\n",
    "from sklearn.metrics import make_scorer, precision_score, recall_score, f1_score, accuracy_score\n",
    "from sklearn.model_selection import RandomizedSearchCV, GridSearchCV, StratifiedKFold\n",
    "import numpy as np\n",
    "from imblearn.over_sampling import SMOTE\n",
    "from xgboost import XGBClassifier\n",
    "import joblib\n",
    "sns.set_theme()"
   ]
  },
  {
   "cell_type": "markdown",
   "metadata": {},
   "source": [
    "## 2 Carregamento e Estrutura dos Dados\n",
    "\n",
    "Os dados utilizados neste estudo estão armazenados em um arquivo CSV chamado **Base_limpa_alunos_maior_2010_concluido_desligado.csv**. Esta base contém **5.042 registros**, representando alunos de diferentes cursos que ingressaram entre **2011 e 2024**.\n",
    "\n",
    "### 🔹 **Pré-processamento dos Dados**\n",
    "A base utilizada **já passou por um processo de preparação e tratamento** antes de ser importada para este estudo. As etapas que já foram realizadas incluem:\n",
    "- **Limpeza de dados**: Remoção de inconsistências, preenchimento de valores ausentes e padronização.\n",
    "- **Derivação de novas variáveis**: Criação de atributos relevantes para prever a evasão.\n",
    "\n",
    "💡 **Importante**: Este projeto **não aborda o processo de limpeza e preparação dos dados**, focando exclusivamente na modelagem preditiva\n",
    "\n",
    "---\n"
   ]
  },
  {
   "cell_type": "code",
   "execution_count": 2,
   "metadata": {},
   "outputs": [
    {
     "name": "stdout",
     "output_type": "stream",
     "text": [
      "✅ Base carregada com sucesso! Total de registros: 5042\n"
     ]
    }
   ],
   "source": [
    "# Carregamento da base de dados\n",
    "alunos = pd.read_csv('base/Base_limpa_alunos_maior_2010_concluido_desligado.csv', delimiter=',')\n",
    "\n",
    "# Definir a coluna \"Nome\" como índice\n",
    "alunos.set_index('Nome', inplace=True)\n",
    "\n",
    "print(f\"✅ Base carregada com sucesso! Total de registros: {len(alunos)}\")"
   ]
  },
  {
   "cell_type": "markdown",
   "metadata": {},
   "source": [
    "### 2.1 Dicionário de Dados\n",
    "\n",
    "A tabela abaixo descreve as variáveis contidas na base de dados utilizada para prever a evasão de alunos:\n",
    "\n",
    "| **Nome da Variável**                          | **Descrição** |\n",
    "|----------------------------------------------|----------------------------------------------------------------|\n",
    "| `Curso`                                      | Nome do curso em que o aluno está matriculado |\n",
    "| `Data_Nascimento`                            | Data de nascimento do aluno |\n",
    "| `Cidade_Estado`                              | Cidade e estado de origem do aluno |\n",
    "| `CEP`                                        | Código de Endereçamento Postal do aluno |\n",
    "| `Sexo`                                       | Gênero do aluno (`Masculino` ou `Feminino`) |\n",
    "| `Tipo_Rede_Ensino`                           | Tipo da escola onde o aluno concluiu o ensino médio (`Pública` ou `Privada`) |\n",
    "| `Tipo_Raca`                                  | Autodeclaração racial do aluno |\n",
    "| `Ano_Ingresso`                               | Ano em que o aluno ingressou na universidade |\n",
    "| `Periodo_Ingresso`                           | Semestre de ingresso do aluno |\n",
    "| `Forma_Ingresso`                             | Método pelo qual o aluno ingressou (`Enem`, `Vestibular`, `Transferência`, etc.) |\n",
    "| `Ano_Periodo_Saida`                          | Ano e semestre em que o aluno saiu da universidade |\n",
    "| `Tipo_Saida`                                 | Motivo da saída (`Desligamento`, `Cancelamento Espontâneo `, `Recusa de Matricula`, etc.) |\n",
    "| `Prazo_Integralizacao`                       | Tempo máximo esperado para o aluno concluir o curso |\n",
    "| `Coeficiente_de_Rendimento`                  | Média geral das notas do aluno |\n",
    "| `Média_de_Conclusão`                         | Média das notas dos alunos concluintes do curso |\n",
    "| `Índice_de_Eficiência_em_Carga_Horária`      | Índice que avalia a relação entre a carga horária cursada e a carga horária ideal |\n",
    "| `Índice_de_Eficiência_em_Períodos_Letivos`   | Índice que mede a eficiência do aluno em relação ao tempo de curso |\n",
    "| `Índice_de_Eficiência_Acadêmica`             | Índice que sintetiza os outros índices de eficiência acadêmica |\n",
    "| `Status`                                     | Situação atual do aluno (`Concluído` e `Desligado`) |\n",
    "| `Prazo_Integralizacao_Ano`                   | Tempo de integralização do curso em anos |\n",
    "| `Prazo_Integralizacao_Semestre`              | Tempo de integralização do curso em semestres |\n",
    "| `Ano_Saida`                                  | Ano de saída do aluno |\n",
    "| `Semestre_Saida`                             | Semestre de saída do aluno |\n",
    "| `Tempo_permanencia_Meses`                    | Tempo total de permanência do aluno na universidade (em meses) |\n",
    "| `Data_Ingresso`                              | Data exata de ingresso do aluno |\n",
    "| `Idade_Ingresso`                             | Idade do aluno no momento do ingresso na universidade |\n",
    "| `Faixa_Etaria`                               | Categoria de idade do aluno (`até 20`, `21-25 anos`, etc.) |\n",
    "| `Região_Origem`                              | Região geográfica de origem do aluno (`São Luís-MA`, `Outros Municípios do MA` e `Outros Estados`.) |\n",
    "\n",
    "---\n",
    "💡 **Observação**: Algumas variáveis foram derivadas para facilitar a modelagem preditiva, como `Idade_Ingresso`,`Faixa_Etaria`,`Região_Origem`, `Faixa_Etaria`, `Tempo_permanencia_Meses`.\n",
    "\n",
    "⚠️ **Importante**: O processo de derivação dessas variáveis **não faz parte deste projeto**. Toda a limpeza, transformação e derivação de atributos foi realizada em um estudo anterior, cujo foco era o **Analise dos dados**. Este projeto, por outro lado, concentra-se exclusivamente na **modelagem preditiva da evasão**.\n"
   ]
  },
  {
   "cell_type": "markdown",
   "metadata": {},
   "source": [
    "### 2.2 Seleção de Variáveis para Modelagem\n",
    "\n",
    "Após uma análise em conjunto com especialistas do negócio, identificamos que algumas variáveis **já sugerem diretamente a evasão do aluno**, tornando a predição redundante. Além disso, algumas informações não são relevantes para a modelagem ou não estariam disponíveis em um cenário de previsão real.\n",
    "\n",
    "Por esses motivos, foram **removidas as seguintes variáveis** do conjunto de dados antes da modelagem:\n",
    "\n",
    "| **Nome da Variável**         | **Motivo da Exclusão** |\n",
    "|------------------------------|----------------------------------------------------------------|\n",
    "| `Data_Nascimento`            | Informação pessoal que não influencia diretamente a evasão, por essa característica foi útil para criar `Faixa_Etaria` |\n",
    "| `Cidade_Estado`              | Detalhe geográfico irrelevante para o modelo, essa característica foi substituída pela `Região_Origem` |\n",
    "| `CEP`                        | Informação muito granular sem impacto direto |\n",
    "| `Ano_Ingresso`               | Pode estar correlacionado com variáveis de tempo |\n",
    "| `Periodo_Ingresso`           | Já representado de forma mais útil em outras variáveis |\n",
    "| `Forma_Ingresso`             | Pode ser um fator, mas sua relação com evasão não é clara |\n",
    "| `Ano_Periodo_Saida`          | Já indica se o aluno saiu, tornando a predição redundante |\n",
    "| `Tipo_Saida`                 | Indica explicitamente se o aluno evadiu ou concluiu |\n",
    "| `Prazo_Integralizacao`       | Informação que pode estar disponível apenas a posteriori |\n",
    "| `Prazo_Integralizacao_Semestre` | Já representado em outras colunas |\n",
    "| `Ano_Saida`                  | Sugere diretamente se o aluno saiu |\n",
    "| `Semestre_Saida`             | Indica claramente o momento da saída |\n",
    "| `Tempo_permanencia_Meses`     | Medida exata do tempo de permanência, tornando a predição óbvia |\n",
    "| `Data_Ingresso`              | Informação redundante com `Ano_Ingresso` e `Periodo_Ingresso` |\n",
    "| `Idade_Ingresso`             | Pode ser derivada de `Data_Nascimento` |\n",
    "| `Curso`                      | Não é uma variável preditiva do comportamento do aluno |\n",
    "\n",
    "💡 **Importante**: A remoção dessas variáveis **não compromete a capacidade do modelo de prever a evasão**, mas evita que ele dependa de informações que já indicam diretamente a evasão, garantindo que a predição seja baseada em fatores mais gerais e interpretáveis.\n",
    "\n"
   ]
  },
  {
   "cell_type": "code",
   "execution_count": 3,
   "metadata": {},
   "outputs": [
    {
     "name": "stdout",
     "output_type": "stream",
     "text": [
      "✅ Número de variáveis restantes: 11\n"
     ]
    }
   ],
   "source": [
    "#Removendo variáveis que não serão utilizadas na modelagem\n",
    "var_excluir = ['Data_Nascimento','Cidade_Estado','CEP','Ano_Ingresso','Periodo_Ingresso','Forma_Ingresso','Ano_Periodo_Saida','Tipo_Saida','Prazo_Integralizacao','Prazo_Integralizacao_Ano',\n",
    "                'Prazo_Integralizacao_Semestre','Ano_Saida','Semestre_Saida','Tempo_permanencia_Meses','Data_Ingresso','Idade_Ingresso','Curso']\n",
    "\n",
    "df_modelagem = alunos.drop(columns=var_excluir)\n",
    "\n",
    "\n",
    "# Verificando a nova estrutura da base\n",
    "print(f\"✅ Número de variáveis restantes: {df_modelagem.shape[1]}\")\n",
    "#df_modelagem.head()"
   ]
  },
  {
   "cell_type": "markdown",
   "metadata": {},
   "source": [
    "### 2.3 Distribuição da Situação do Aluno\n",
    "\n",
    "Antes de prosseguir com a modelagem preditiva, apresentamos a distribuição da variável `Status`, que indica se o aluno **concluiu o curso ou foi desligado**.\n",
    "\n",
    "💡 **Nota**:  \n",
    "A análise exploratória mais aprofundada deste conjunto de dados foi realizada em um estudo anterior. Neste projeto, **nosso foco é a modelagem preditiva**, por isso, apresentamos apenas a distribuição da situação dos alunos.\n",
    "\n",
    "---\n"
   ]
  },
  {
   "cell_type": "code",
   "execution_count": 43,
   "metadata": {},
   "outputs": [
    {
     "data": {
      "application/vnd.plotly.v1+json": {
       "config": {
        "plotlyServerURL": "https://plot.ly"
       },
       "data": [
        {
         "alignmentgroup": "True",
         "hovertemplate": "Status=%{x}<br>count=%{y}<extra></extra>",
         "legendgroup": "DESLIGADO",
         "marker": {
          "color": "#5A021F",
          "pattern": {
           "shape": ""
          }
         },
         "name": "DESLIGADO",
         "offsetgroup": "DESLIGADO",
         "orientation": "v",
         "showlegend": true,
         "textposition": "auto",
         "type": "bar",
         "x": [
          "DESLIGADO"
         ],
         "xaxis": "x",
         "y": [
          3724
         ],
         "yaxis": "y"
        },
        {
         "alignmentgroup": "True",
         "hovertemplate": "Status=%{x}<br>count=%{y}<extra></extra>",
         "legendgroup": "CONCLUÍDO",
         "marker": {
          "color": "#065A57",
          "pattern": {
           "shape": ""
          }
         },
         "name": "CONCLUÍDO",
         "offsetgroup": "CONCLUÍDO",
         "orientation": "v",
         "showlegend": true,
         "textposition": "auto",
         "type": "bar",
         "x": [
          "CONCLUÍDO"
         ],
         "xaxis": "x",
         "y": [
          1318
         ],
         "yaxis": "y"
        }
       ],
       "layout": {
        "barmode": "relative",
        "height": 500,
        "legend": {
         "title": {
          "text": "Status"
         },
         "tracegroupgap": 0
        },
        "template": {
         "data": {
          "bar": [
           {
            "error_x": {
             "color": "#2a3f5f"
            },
            "error_y": {
             "color": "#2a3f5f"
            },
            "marker": {
             "line": {
              "color": "#E5ECF6",
              "width": 0.5
             },
             "pattern": {
              "fillmode": "overlay",
              "size": 10,
              "solidity": 0.2
             }
            },
            "type": "bar"
           }
          ],
          "barpolar": [
           {
            "marker": {
             "line": {
              "color": "#E5ECF6",
              "width": 0.5
             },
             "pattern": {
              "fillmode": "overlay",
              "size": 10,
              "solidity": 0.2
             }
            },
            "type": "barpolar"
           }
          ],
          "carpet": [
           {
            "aaxis": {
             "endlinecolor": "#2a3f5f",
             "gridcolor": "white",
             "linecolor": "white",
             "minorgridcolor": "white",
             "startlinecolor": "#2a3f5f"
            },
            "baxis": {
             "endlinecolor": "#2a3f5f",
             "gridcolor": "white",
             "linecolor": "white",
             "minorgridcolor": "white",
             "startlinecolor": "#2a3f5f"
            },
            "type": "carpet"
           }
          ],
          "choropleth": [
           {
            "colorbar": {
             "outlinewidth": 0,
             "ticks": ""
            },
            "type": "choropleth"
           }
          ],
          "contour": [
           {
            "colorbar": {
             "outlinewidth": 0,
             "ticks": ""
            },
            "colorscale": [
             [
              0,
              "#0d0887"
             ],
             [
              0.1111111111111111,
              "#46039f"
             ],
             [
              0.2222222222222222,
              "#7201a8"
             ],
             [
              0.3333333333333333,
              "#9c179e"
             ],
             [
              0.4444444444444444,
              "#bd3786"
             ],
             [
              0.5555555555555556,
              "#d8576b"
             ],
             [
              0.6666666666666666,
              "#ed7953"
             ],
             [
              0.7777777777777778,
              "#fb9f3a"
             ],
             [
              0.8888888888888888,
              "#fdca26"
             ],
             [
              1,
              "#f0f921"
             ]
            ],
            "type": "contour"
           }
          ],
          "contourcarpet": [
           {
            "colorbar": {
             "outlinewidth": 0,
             "ticks": ""
            },
            "type": "contourcarpet"
           }
          ],
          "heatmap": [
           {
            "colorbar": {
             "outlinewidth": 0,
             "ticks": ""
            },
            "colorscale": [
             [
              0,
              "#0d0887"
             ],
             [
              0.1111111111111111,
              "#46039f"
             ],
             [
              0.2222222222222222,
              "#7201a8"
             ],
             [
              0.3333333333333333,
              "#9c179e"
             ],
             [
              0.4444444444444444,
              "#bd3786"
             ],
             [
              0.5555555555555556,
              "#d8576b"
             ],
             [
              0.6666666666666666,
              "#ed7953"
             ],
             [
              0.7777777777777778,
              "#fb9f3a"
             ],
             [
              0.8888888888888888,
              "#fdca26"
             ],
             [
              1,
              "#f0f921"
             ]
            ],
            "type": "heatmap"
           }
          ],
          "heatmapgl": [
           {
            "colorbar": {
             "outlinewidth": 0,
             "ticks": ""
            },
            "colorscale": [
             [
              0,
              "#0d0887"
             ],
             [
              0.1111111111111111,
              "#46039f"
             ],
             [
              0.2222222222222222,
              "#7201a8"
             ],
             [
              0.3333333333333333,
              "#9c179e"
             ],
             [
              0.4444444444444444,
              "#bd3786"
             ],
             [
              0.5555555555555556,
              "#d8576b"
             ],
             [
              0.6666666666666666,
              "#ed7953"
             ],
             [
              0.7777777777777778,
              "#fb9f3a"
             ],
             [
              0.8888888888888888,
              "#fdca26"
             ],
             [
              1,
              "#f0f921"
             ]
            ],
            "type": "heatmapgl"
           }
          ],
          "histogram": [
           {
            "marker": {
             "pattern": {
              "fillmode": "overlay",
              "size": 10,
              "solidity": 0.2
             }
            },
            "type": "histogram"
           }
          ],
          "histogram2d": [
           {
            "colorbar": {
             "outlinewidth": 0,
             "ticks": ""
            },
            "colorscale": [
             [
              0,
              "#0d0887"
             ],
             [
              0.1111111111111111,
              "#46039f"
             ],
             [
              0.2222222222222222,
              "#7201a8"
             ],
             [
              0.3333333333333333,
              "#9c179e"
             ],
             [
              0.4444444444444444,
              "#bd3786"
             ],
             [
              0.5555555555555556,
              "#d8576b"
             ],
             [
              0.6666666666666666,
              "#ed7953"
             ],
             [
              0.7777777777777778,
              "#fb9f3a"
             ],
             [
              0.8888888888888888,
              "#fdca26"
             ],
             [
              1,
              "#f0f921"
             ]
            ],
            "type": "histogram2d"
           }
          ],
          "histogram2dcontour": [
           {
            "colorbar": {
             "outlinewidth": 0,
             "ticks": ""
            },
            "colorscale": [
             [
              0,
              "#0d0887"
             ],
             [
              0.1111111111111111,
              "#46039f"
             ],
             [
              0.2222222222222222,
              "#7201a8"
             ],
             [
              0.3333333333333333,
              "#9c179e"
             ],
             [
              0.4444444444444444,
              "#bd3786"
             ],
             [
              0.5555555555555556,
              "#d8576b"
             ],
             [
              0.6666666666666666,
              "#ed7953"
             ],
             [
              0.7777777777777778,
              "#fb9f3a"
             ],
             [
              0.8888888888888888,
              "#fdca26"
             ],
             [
              1,
              "#f0f921"
             ]
            ],
            "type": "histogram2dcontour"
           }
          ],
          "mesh3d": [
           {
            "colorbar": {
             "outlinewidth": 0,
             "ticks": ""
            },
            "type": "mesh3d"
           }
          ],
          "parcoords": [
           {
            "line": {
             "colorbar": {
              "outlinewidth": 0,
              "ticks": ""
             }
            },
            "type": "parcoords"
           }
          ],
          "pie": [
           {
            "automargin": true,
            "type": "pie"
           }
          ],
          "scatter": [
           {
            "fillpattern": {
             "fillmode": "overlay",
             "size": 10,
             "solidity": 0.2
            },
            "type": "scatter"
           }
          ],
          "scatter3d": [
           {
            "line": {
             "colorbar": {
              "outlinewidth": 0,
              "ticks": ""
             }
            },
            "marker": {
             "colorbar": {
              "outlinewidth": 0,
              "ticks": ""
             }
            },
            "type": "scatter3d"
           }
          ],
          "scattercarpet": [
           {
            "marker": {
             "colorbar": {
              "outlinewidth": 0,
              "ticks": ""
             }
            },
            "type": "scattercarpet"
           }
          ],
          "scattergeo": [
           {
            "marker": {
             "colorbar": {
              "outlinewidth": 0,
              "ticks": ""
             }
            },
            "type": "scattergeo"
           }
          ],
          "scattergl": [
           {
            "marker": {
             "colorbar": {
              "outlinewidth": 0,
              "ticks": ""
             }
            },
            "type": "scattergl"
           }
          ],
          "scattermapbox": [
           {
            "marker": {
             "colorbar": {
              "outlinewidth": 0,
              "ticks": ""
             }
            },
            "type": "scattermapbox"
           }
          ],
          "scatterpolar": [
           {
            "marker": {
             "colorbar": {
              "outlinewidth": 0,
              "ticks": ""
             }
            },
            "type": "scatterpolar"
           }
          ],
          "scatterpolargl": [
           {
            "marker": {
             "colorbar": {
              "outlinewidth": 0,
              "ticks": ""
             }
            },
            "type": "scatterpolargl"
           }
          ],
          "scatterternary": [
           {
            "marker": {
             "colorbar": {
              "outlinewidth": 0,
              "ticks": ""
             }
            },
            "type": "scatterternary"
           }
          ],
          "surface": [
           {
            "colorbar": {
             "outlinewidth": 0,
             "ticks": ""
            },
            "colorscale": [
             [
              0,
              "#0d0887"
             ],
             [
              0.1111111111111111,
              "#46039f"
             ],
             [
              0.2222222222222222,
              "#7201a8"
             ],
             [
              0.3333333333333333,
              "#9c179e"
             ],
             [
              0.4444444444444444,
              "#bd3786"
             ],
             [
              0.5555555555555556,
              "#d8576b"
             ],
             [
              0.6666666666666666,
              "#ed7953"
             ],
             [
              0.7777777777777778,
              "#fb9f3a"
             ],
             [
              0.8888888888888888,
              "#fdca26"
             ],
             [
              1,
              "#f0f921"
             ]
            ],
            "type": "surface"
           }
          ],
          "table": [
           {
            "cells": {
             "fill": {
              "color": "#EBF0F8"
             },
             "line": {
              "color": "white"
             }
            },
            "header": {
             "fill": {
              "color": "#C8D4E3"
             },
             "line": {
              "color": "white"
             }
            },
            "type": "table"
           }
          ]
         },
         "layout": {
          "annotationdefaults": {
           "arrowcolor": "#2a3f5f",
           "arrowhead": 0,
           "arrowwidth": 1
          },
          "autotypenumbers": "strict",
          "coloraxis": {
           "colorbar": {
            "outlinewidth": 0,
            "ticks": ""
           }
          },
          "colorscale": {
           "diverging": [
            [
             0,
             "#8e0152"
            ],
            [
             0.1,
             "#c51b7d"
            ],
            [
             0.2,
             "#de77ae"
            ],
            [
             0.3,
             "#f1b6da"
            ],
            [
             0.4,
             "#fde0ef"
            ],
            [
             0.5,
             "#f7f7f7"
            ],
            [
             0.6,
             "#e6f5d0"
            ],
            [
             0.7,
             "#b8e186"
            ],
            [
             0.8,
             "#7fbc41"
            ],
            [
             0.9,
             "#4d9221"
            ],
            [
             1,
             "#276419"
            ]
           ],
           "sequential": [
            [
             0,
             "#0d0887"
            ],
            [
             0.1111111111111111,
             "#46039f"
            ],
            [
             0.2222222222222222,
             "#7201a8"
            ],
            [
             0.3333333333333333,
             "#9c179e"
            ],
            [
             0.4444444444444444,
             "#bd3786"
            ],
            [
             0.5555555555555556,
             "#d8576b"
            ],
            [
             0.6666666666666666,
             "#ed7953"
            ],
            [
             0.7777777777777778,
             "#fb9f3a"
            ],
            [
             0.8888888888888888,
             "#fdca26"
            ],
            [
             1,
             "#f0f921"
            ]
           ],
           "sequentialminus": [
            [
             0,
             "#0d0887"
            ],
            [
             0.1111111111111111,
             "#46039f"
            ],
            [
             0.2222222222222222,
             "#7201a8"
            ],
            [
             0.3333333333333333,
             "#9c179e"
            ],
            [
             0.4444444444444444,
             "#bd3786"
            ],
            [
             0.5555555555555556,
             "#d8576b"
            ],
            [
             0.6666666666666666,
             "#ed7953"
            ],
            [
             0.7777777777777778,
             "#fb9f3a"
            ],
            [
             0.8888888888888888,
             "#fdca26"
            ],
            [
             1,
             "#f0f921"
            ]
           ]
          },
          "colorway": [
           "#636efa",
           "#EF553B",
           "#00cc96",
           "#ab63fa",
           "#FFA15A",
           "#19d3f3",
           "#FF6692",
           "#B6E880",
           "#FF97FF",
           "#FECB52"
          ],
          "font": {
           "color": "#2a3f5f"
          },
          "geo": {
           "bgcolor": "white",
           "lakecolor": "white",
           "landcolor": "#E5ECF6",
           "showlakes": true,
           "showland": true,
           "subunitcolor": "white"
          },
          "hoverlabel": {
           "align": "left"
          },
          "hovermode": "closest",
          "mapbox": {
           "style": "light"
          },
          "paper_bgcolor": "white",
          "plot_bgcolor": "#E5ECF6",
          "polar": {
           "angularaxis": {
            "gridcolor": "white",
            "linecolor": "white",
            "ticks": ""
           },
           "bgcolor": "#E5ECF6",
           "radialaxis": {
            "gridcolor": "white",
            "linecolor": "white",
            "ticks": ""
           }
          },
          "scene": {
           "xaxis": {
            "backgroundcolor": "#E5ECF6",
            "gridcolor": "white",
            "gridwidth": 2,
            "linecolor": "white",
            "showbackground": true,
            "ticks": "",
            "zerolinecolor": "white"
           },
           "yaxis": {
            "backgroundcolor": "#E5ECF6",
            "gridcolor": "white",
            "gridwidth": 2,
            "linecolor": "white",
            "showbackground": true,
            "ticks": "",
            "zerolinecolor": "white"
           },
           "zaxis": {
            "backgroundcolor": "#E5ECF6",
            "gridcolor": "white",
            "gridwidth": 2,
            "linecolor": "white",
            "showbackground": true,
            "ticks": "",
            "zerolinecolor": "white"
           }
          },
          "shapedefaults": {
           "line": {
            "color": "#2a3f5f"
           }
          },
          "ternary": {
           "aaxis": {
            "gridcolor": "white",
            "linecolor": "white",
            "ticks": ""
           },
           "baxis": {
            "gridcolor": "white",
            "linecolor": "white",
            "ticks": ""
           },
           "bgcolor": "#E5ECF6",
           "caxis": {
            "gridcolor": "white",
            "linecolor": "white",
            "ticks": ""
           }
          },
          "title": {
           "x": 0.05
          },
          "xaxis": {
           "automargin": true,
           "gridcolor": "white",
           "linecolor": "white",
           "ticks": "",
           "title": {
            "standoff": 15
           },
           "zerolinecolor": "white",
           "zerolinewidth": 2
          },
          "yaxis": {
           "automargin": true,
           "gridcolor": "white",
           "linecolor": "white",
           "ticks": "",
           "title": {
            "standoff": 15
           },
           "zerolinecolor": "white",
           "zerolinewidth": 2
          }
         }
        },
        "title": {
         "text": "Distribuição Situação do Aluno"
        },
        "width": 800,
        "xaxis": {
         "anchor": "y",
         "categoryarray": [
          "DESLIGADO",
          "CONCLUÍDO"
         ],
         "categoryorder": "array",
         "domain": [
          0,
          1
         ],
         "tickangle": 0,
         "title": {
          "text": "Status"
         }
        },
        "yaxis": {
         "anchor": "x",
         "domain": [
          0,
          1
         ],
         "title": {
          "text": "Quantidade de Alunos"
         }
        }
       }
      }
     },
     "metadata": {},
     "output_type": "display_data"
    }
   ],
   "source": [
    "df = df_modelagem['Status'].value_counts().reset_index()\n",
    "\n",
    "df.columns = ['Status', 'count']\n",
    "# Dicionário para correspondência das cores\n",
    "cores_situacao = {\n",
    "    'CONCLUÍDO': '#065A57',  \n",
    "    'DESLIGADO': '#5A021F', \n",
    "}\n",
    "\n",
    "# Conversão do dicionário de cores para uma lista, alinhada com os valores únicos de 'Novo_Status'\n",
    "ordem_status = df['Status'].tolist()\n",
    "cores_alinhadas = [cores_situacao[status] for status in ordem_status if status in cores_situacao]\n",
    "# Criação do gráfico com ajuste para cores\n",
    "grafico = px.bar(\n",
    "    df,\n",
    "    x='Status',\n",
    "    y='count',\n",
    "    color='Status',\n",
    "    color_discrete_sequence=cores_alinhadas, \n",
    "    title='Distribuição Situação do Aluno'\n",
    ")\n",
    "# Atualizar layout do gráfico\n",
    "grafico.update_layout(\n",
    "    xaxis_title='Status',\n",
    "    yaxis_title='Quantidade de Alunos',\n",
    "    height=500,\n",
    "    width=800,\n",
    "    xaxis=dict(tickangle=0)  # Mantém rótulos alinhados no eixo X\n",
    ")\n",
    "grafico.show()"
   ]
  },
  {
   "cell_type": "markdown",
   "metadata": {},
   "source": [
    "## 3 Preparação dos Dados\n",
    "Antes de treinar o modelo, é necessário preparar os dados para que possam ser utilizados corretamente pelos algoritmos de aprendizado de máquina. "
   ]
  },
  {
   "cell_type": "markdown",
   "metadata": {},
   "source": [
    "### 3.1 - Codificação das Variáveis Categóricas\n",
    "Nesta etapa, realizamos a **codificação das variáveis categóricas** utilizando o método **Label Encoding**.\n",
    "\n",
    "As seguintes variáveis categóricas foram convertidas para valores numéricos:\n",
    "- `Tipo_Raca`\n",
    "- `Tipo_Rede_Ensino`\n",
    "- `Faixa_Etaria`\n",
    "- `Sexo`\n",
    "- `Região_Origem`\n",
    "\n",
    "Utilizamos a classe `LabelEncoder` da biblioteca `scikit-learn` para transformar essas variáveis em números, garantindo que o modelo possa interpretar corretamente seus valores.\n",
    "\n",
    "---\n"
   ]
  },
  {
   "cell_type": "code",
   "execution_count": 44,
   "metadata": {},
   "outputs": [
    {
     "name": "stdout",
     "output_type": "stream",
     "text": [
      "Mapeamento para 'Tipo_Raca': {'Amarelo': 0, 'Branco': 1, 'Indígeno': 2, 'Negro/Pardo': 3, 'Negro/Preto': 4, 'Não Informado': 5}\n",
      "Mapeamento para 'Tipo_Rede_Ensino': {'Não Informado': 0, 'Privada': 1, 'Pública': 2, 'Pública/Privada': 3}\n",
      "Mapeamento para 'Faixa_Etaria': {'21 a 25': 0, '26 a 30': 1, '31 a 40': 2, 'até 20': 3, 'maior de 40': 4}\n",
      "Mapeamento para 'Sexo': {'F': 0, 'M': 1}\n",
      "Mapeamento para 'Região_Origem': {'Outros Estados': 0, 'Outros Municípios do Maranhão': 1, 'São Luís-MA': 2}\n"
     ]
    }
   ],
   "source": [
    "# Criando uma cópia do dataset para codificação\n",
    "df_modelagem_encod = df_modelagem.copy()\n",
    "\n",
    "# Definição das variáveis categóricas a serem codificadas\n",
    "variaveis_categoricas = ['Tipo_Raca', 'Tipo_Rede_Ensino', 'Faixa_Etaria','Sexo','Região_Origem']\n",
    "\n",
    "# Dicionário para armazenar os encoders usados\n",
    "label_encoders = {} \n",
    "\n",
    "# Aplicando Label Encoding em cada variável categórica\n",
    "for col in variaveis_categoricas:\n",
    "    le = LabelEncoder()\n",
    "    df_modelagem_encod[col] = le.fit_transform(df_modelagem[col])  \n",
    "    mapping = dict(zip(le.classes_, le.transform(le.classes_)))\n",
    "    print(f\"Mapeamento para '{col}': {mapping}\")\n",
    "    label_encoders[col] = le  "
   ]
  },
  {
   "cell_type": "markdown",
   "metadata": {},
   "source": [
    "###  3.2 - Salvamento dos Encoders\n",
    "\n",
    "Os encoders gerados para cada variável categórica foram armazenados em um arquivo `.pkl` utilizando a biblioteca `joblib`. Esse arquivo poderá ser utilizado no futuro para garantir que os mesmos mapeamentos sejam aplicados em **novos dados de previsão**, evitando inconsistências entre os dados de treinamento e os dados de produção.\n",
    "\n",
    "---\n"
   ]
  },
  {
   "cell_type": "code",
   "execution_count": 45,
   "metadata": {},
   "outputs": [
    {
     "data": {
      "text/plain": [
       "['Model/label_encoders_13_02.pkl']"
      ]
     },
     "execution_count": 45,
     "metadata": {},
     "output_type": "execute_result"
    }
   ],
   "source": [
    "joblib.dump(label_encoders, \"Model/label_encoders_13_02.pkl\")"
   ]
  },
  {
   "cell_type": "markdown",
   "metadata": {},
   "source": [
    "### 3.3 - Normalização das Variáveis Numéricas\n",
    "\n",
    "Para garantir que as variáveis numéricas estejam na mesma escala e **evitar que atributos com valores muito altos influenciem excessivamente o modelo**, aplicamos a **normalização** utilizando o método **StandardScaler**.\n",
    "\n",
    "#### 🔹 O que é o StandardScaler?\n",
    "O `StandardScaler` da biblioteca `scikit-learn` transforma os dados para que tenham **média 0 e desvio padrão 1**, garantindo que todas as variáveis tenham a mesma influência no modelo.\n",
    "\n",
    "#### 🔹 Variáveis Normalizadas\n",
    "Foram normalizadas apenas as variáveis numéricas (`float64`), incluindo:\n",
    "- `Coeficiente_de_Rendimento`\n",
    "- `Média_de_Conclusão`\n",
    "- `Índice_de_Eficiência_em_Carga_Horária`\n",
    "- `Índice_de_Eficiência_em_Períodos_Letivos`\n",
    "- `Índice_de_Eficiência_Acadêmica`\n",
    "\n",
    "---\n"
   ]
  },
  {
   "cell_type": "code",
   "execution_count": 46,
   "metadata": {},
   "outputs": [],
   "source": [
    "# Selecionar apenas as variáveis numéricas para normalização\n",
    "numeric_features = df_modelagem_encod.select_dtypes(include=['float64']).columns\n",
    "\n",
    "# Inicializar o StandardScaler\n",
    "scaler = StandardScaler()\n",
    "\n",
    "# Ajustar o scaler e transformar as variáveis numéricas\n",
    "df_modelagem_encod[numeric_features] = scaler.fit_transform(df_modelagem[numeric_features])"
   ]
  },
  {
   "cell_type": "markdown",
   "metadata": {},
   "source": [
    "### 3.4 - Salvamento do Scaler\n",
    "O `StandardScaler` treinado foi salvo no arquivo **`scaler_numerico_13_02_B.pkl`** para que seja utilizado futuramente na padronização de novos dados.\n",
    "\n",
    "---"
   ]
  },
  {
   "cell_type": "code",
   "execution_count": 47,
   "metadata": {},
   "outputs": [
    {
     "data": {
      "text/plain": [
       "['Model/scaler_numerico_13_02_B.pkl']"
      ]
     },
     "execution_count": 47,
     "metadata": {},
     "output_type": "execute_result"
    }
   ],
   "source": [
    "joblib.dump(scaler, \"Model/scaler_numerico_13_02_B.pkl\")"
   ]
  },
  {
   "cell_type": "markdown",
   "metadata": {},
   "source": [
    "## 4 - Criação do modelo"
   ]
  },
  {
   "cell_type": "markdown",
   "metadata": {},
   "source": [
    "### 4.1 - Separação dos Dados para Treinamento e Teste\n",
    "\n",
    "Para avaliar o desempenho do modelo, é essencial dividir o conjunto de dados em duas partes:\n",
    "- **Treinamento (70%)**: Usado para treinar o modelo.\n",
    "- **Teste (30%)**: Usado para avaliar a capacidade do modelo de generalizar para novos dados.\n",
    "\n",
    "### 🔹 Estratégia de Divisão:\n",
    "- Utilizamos a função `train_test_split` do `scikit-learn` para fazer a separação dos dados.\n",
    "- A variável **alvo** (`Status`) foi transformada em valores numéricos:\n",
    "  - `CONCLUÍDO = 1`\n",
    "  - `DESLIGADO = 0`\n",
    "- A divisão mantém a mesma proporção das classes (**estratificação por `y`**) para evitar desbalanceamento nos conjuntos.\n",
    "\n",
    "---\n"
   ]
  },
  {
   "cell_type": "code",
   "execution_count": 48,
   "metadata": {},
   "outputs": [
    {
     "name": "stdout",
     "output_type": "stream",
     "text": [
      "✅ O dataset de treino possui 3529 alunos e o de teste 1513 alunos.\n"
     ]
    }
   ],
   "source": [
    "# Definindo as variáveis explicativas (X) e a variável-alvo (y)\n",
    "X = df_modelagem_encod.drop(columns=[\"Status\"])\n",
    "y = df_modelagem_encod[\"Status\"].map({\"CONCLUÍDO\": 1, \"DESLIGADO\": 0})  # Transformação da variável alvo\n",
    "\n",
    "# Divisão dos dados em treino (70%) e teste (30%), com estratificação\n",
    "X_train, X_test, y_train, y_test = train_test_split(X, y, test_size=0.3, random_state=42, stratify=y)\n",
    "\n",
    "# Exibir o número de registros em cada conjunto\n",
    "print(f\"✅ O dataset de treino possui {X_train.shape[0]} alunos e o de teste {X_test.shape[0]} alunos.\")\n"
   ]
  },
  {
   "cell_type": "markdown",
   "metadata": {},
   "source": [
    "### 4.2 Balanceamento das Classes com SMOTE\n",
    "\n",
    "Os dados apresentavam um **desbalanceamento** entre alunos que **concluíram** e aqueles que foram **desligados**, o que poderia impactar negativamente a performance do modelo, fazendo com que ele tenha um viés para a classe majoritária.\n",
    "\n",
    "Para mitigar esse problema, utilizamos a técnica **SMOTE (Synthetic Minority Over-sampling Technique)**, que cria exemplos sintéticos da classe minoritária em vez de apenas replicar os existentes. \n",
    "\n",
    "#### 🔹 Estratégia Utilizada:\n",
    "- **Antes do SMOTE:** A classe majoritária (`DESLIGADO`) era bem maior do que a classe minoritária (`CONCLUÍDO`).\n",
    "- **Após o SMOTE:** O conjunto de treino foi balanceado, igualando as quantidades de registros em ambas as classes.\n",
    "\n",
    "⚠️ **Importante**: O SMOTE foi aplicado **apenas no conjunto de treinamento** para evitar vazamento de informações no teste.\n",
    "\n",
    "---\n"
   ]
  },
  {
   "cell_type": "code",
   "execution_count": 49,
   "metadata": {},
   "outputs": [
    {
     "name": "stdout",
     "output_type": "stream",
     "text": [
      "Distribuição de classes antes do SMOTE: Status\n",
      "0    2607\n",
      "1     922\n",
      "Name: count, dtype: int64\n",
      "\n",
      "Distribuição de classes após o SMOTE: Status\n",
      "0    2607\n",
      "1    2607\n",
      "Name: count, dtype: int64\n",
      "\n",
      "✅ SMOTE aplicado com sucesso! Conjunto de treino balanceado.\n"
     ]
    }
   ],
   "source": [
    "# Inicializando o SMOTE com balanceamento total (1:1)\n",
    "smote = SMOTE(sampling_strategy=1, random_state=42)\n",
    "\n",
    "# Aplicando o SMOTE para balancear as classes na base de treino\n",
    "X_train_bal, y_train_bal = smote.fit_resample(X_train, y_train)\n",
    "\n",
    "# Verificando o balanceamento antes e depois do SMOTE\n",
    "print(\"Distribuição de classes antes do SMOTE:\", y_train.value_counts())\n",
    "print(\"\\nDistribuição de classes após o SMOTE:\", pd.Series(y_train_bal).value_counts())\n",
    "\n",
    "print(\"\\n✅ SMOTE aplicado com sucesso! Conjunto de treino balanceado.\")"
   ]
  },
  {
   "cell_type": "markdown",
   "metadata": {},
   "source": [
    "### 4.3 - Treinamento e Avaliação de Modelos\n",
    "\n",
    "Nesta etapa, comparamos diferentes algoritmos de aprendizado de máquina para prever a evasão de alunos. O objetivo é testar qual modelo apresenta o **melhor desempenho** com base em múltiplas métricas.\n",
    "\n",
    "##### 🔹 Modelos Testados:\n",
    "- **Árvore de Decisão (`DecisionTreeClassifier`)**\n",
    "- **Random Forest (`RandomForestClassifier`)**\n",
    "- **Regressão Logística (`LogisticRegression`)**\n",
    "- **XGBoost (`XGBClassifier`)**\n",
    "\n",
    "##### 🔹 Estratégia de Avaliação:\n",
    "- Utilizamos **Validação Cruzada Estratificada (`StratifiedKFold`)** com **5 folds** para garantir que o modelo seja testado em diferentes subconjuntos dos dados.\n",
    "- Avaliamos os modelos com as seguintes métricas:\n",
    "  - **Acurácia**: Proporção de previsões corretas.\n",
    "  - **Precisão**: Proporção de previsões positivas corretas.\n",
    "  - **Recall**: Capacidade de identificar corretamente os casos de evasão.\n",
    "  - **F1-Score**: Média harmônica entre precisão e recall, balanceando ambas as métricas.\n",
    "\n",
    "💡 **Importante**: O uso de **validação cruzada** reduz o risco de overfitting e nos permite ter uma estimativa mais confiável do desempenho dos modelos.\n",
    "\n",
    "---\n"
   ]
  },
  {
   "cell_type": "code",
   "execution_count": 50,
   "metadata": {},
   "outputs": [
    {
     "name": "stdout",
     "output_type": "stream",
     "text": [
      "\n",
      "🔹 Modelo: Árvore de Decisão\n",
      "✅ Accuracy: 91.43%\n",
      "✅ Precision: 89.58%\n",
      "✅ Recall: 93.79%\n",
      "✅ F1: 91.62%\n",
      "\n",
      "🔹 Modelo: Random Forest\n",
      "✅ Accuracy: 94.48%\n",
      "✅ Precision: 92.51%\n",
      "✅ Recall: 96.82%\n",
      "✅ F1: 94.60%\n",
      "\n",
      "🔹 Modelo: Regressão Logística\n",
      "✅ Accuracy: 91.48%\n",
      "✅ Precision: 88.84%\n",
      "✅ Recall: 94.90%\n",
      "✅ F1: 91.77%\n",
      "\n",
      "🔹 Modelo: XGBoost\n",
      "✅ Accuracy: 94.21%\n",
      "✅ Precision: 92.50%\n",
      "✅ Recall: 96.24%\n",
      "✅ F1: 94.33%\n"
     ]
    }
   ],
   "source": [
    "# Definir a semente aleatória para reprodutibilidade\n",
    "SEED = 42\n",
    "np.random.seed(SEED)\n",
    "\n",
    "# Criar a validação cruzada estratificada\n",
    "cv = StratifiedKFold(n_splits=5, shuffle=True, random_state=SEED)\n",
    "\n",
    "# Inicializar os modelos\n",
    "model_dt = DecisionTreeClassifier(max_depth=3, random_state=SEED)\n",
    "model_rf = RandomForestClassifier(n_estimators=100, random_state=SEED)\n",
    "model_log = LogisticRegression(solver='liblinear', random_state=SEED)\n",
    "model_xgb = XGBClassifier(use_label_encoder=False, eval_metric='logloss', random_state=SEED)\n",
    "\n",
    "# Lista de modelos e nomes\n",
    "models = [model_dt, model_rf, model_log, model_xgb]\n",
    "names = ['Árvore de Decisão', 'Random Forest', 'Regressão Logística', 'XGBoost']\n",
    "\n",
    "# Definição das métricas\n",
    "scoring = {\n",
    "    'accuracy': make_scorer(accuracy_score),\n",
    "    'precision': make_scorer(precision_score),\n",
    "    'recall': make_scorer(recall_score),\n",
    "    'f1': make_scorer(f1_score)\n",
    "}\n",
    "\n",
    "# Testar cada modelo usando validação cruzada\n",
    "for name, model in zip(names, models):\n",
    "    print(f\"\\n🔹 Modelo: {name}\")\n",
    "    for metric, scorer in scoring.items():\n",
    "        score = cross_val_score(model, X_train_bal, y_train_bal, cv=cv, scoring=scorer).mean()\n",
    "        print(f\"✅ {metric.capitalize()}: {score * 100:.2f}%\")\n"
   ]
  },
  {
   "cell_type": "markdown",
   "metadata": {},
   "source": [
    "### 4.4 - Ajuste de Hiperparâmetros do Modelo XGBoost\n",
    "\n",
    "Para otimizar o desempenho do modelo **XGBoost**, realizamos um **ajuste de hiperparâmetros** utilizando duas abordagens:\n",
    "\n",
    "1️⃣ **RandomizedSearchCV**  \n",
    "   - Busca aleatória entre um conjunto de hiperparâmetros pré-definidos.\n",
    "   - Permite explorar uma ampla gama de combinações sem testar todas as possibilidades, economizando tempo computacional.\n",
    "\n",
    "2️⃣ **GridSearchCV (Refinamento Final)**  \n",
    "   - Após encontrar uma boa combinação inicial, realizamos uma busca mais refinada em torno dos melhores valores encontrados.\n",
    "   - Isso nos permite ajustar o modelo com mais precisão e otimizar sua performance.\n",
    "\n",
    "### 🔹 Hiperparâmetros Ajustados:\n",
    "- `n_estimators`: Número de árvores no modelo.\n",
    "- `max_depth`: Profundidade máxima das árvores.\n",
    "- `learning_rate`: Taxa de aprendizado.\n",
    "- `subsample`: Fração de amostras utilizadas para treinamento.\n",
    "- `colsample_bytree`: Fração de colunas usadas por árvore.\n",
    "- `gamma`: Complexidade da árvore (poda).\n",
    "- `min_child_weight`: Peso mínimo para divisão de nós.\n",
    "\n",
    "---\n"
   ]
  },
  {
   "cell_type": "code",
   "execution_count": 51,
   "metadata": {},
   "outputs": [
    {
     "name": "stdout",
     "output_type": "stream",
     "text": [
      "Fitting 3 folds for each of 10 candidates, totalling 30 fits\n"
     ]
    },
    {
     "name": "stdout",
     "output_type": "stream",
     "text": [
      "[CV] END colsample_bytree=0.9, gamma=0.1, learning_rate=0.1, max_depth=3, min_child_weight=3, n_estimators=500, subsample=0.9; total time=   0.6s\n",
      "[CV] END colsample_bytree=0.7, gamma=0, learning_rate=0.05, max_depth=3, min_child_weight=5, n_estimators=500, subsample=0.7; total time=   0.4s\n",
      "[CV] END colsample_bytree=0.7, gamma=0, learning_rate=0.05, max_depth=3, min_child_weight=5, n_estimators=500, subsample=0.7; total time=   0.4s\n",
      "[CV] END colsample_bytree=0.9, gamma=0.1, learning_rate=0.1, max_depth=3, min_child_weight=3, n_estimators=500, subsample=0.9; total time=   0.8s\n",
      "[CV] END colsample_bytree=0.9, gamma=0.1, learning_rate=0.1, max_depth=3, min_child_weight=3, n_estimators=500, subsample=0.9; total time=   0.7s\n",
      "[CV] END colsample_bytree=0.7, gamma=0, learning_rate=0.05, max_depth=3, min_child_weight=5, n_estimators=500, subsample=0.7; total time=   0.5s\n",
      "[CV] END colsample_bytree=0.9, gamma=0.2, learning_rate=0.01, max_depth=7, min_child_weight=3, n_estimators=300, subsample=0.9; total time=   0.8s\n",
      "[CV] END colsample_bytree=0.7, gamma=0.2, learning_rate=0.1, max_depth=7, min_child_weight=5, n_estimators=500, subsample=0.9; total time=   0.7s\n",
      "[CV] END colsample_bytree=0.9, gamma=0.2, learning_rate=0.01, max_depth=7, min_child_weight=3, n_estimators=300, subsample=0.9; total time=   0.8s\n",
      "[CV] END colsample_bytree=0.9, gamma=0.2, learning_rate=0.01, max_depth=7, min_child_weight=3, n_estimators=300, subsample=0.9; total time=   1.3s\n",
      "[CV] END colsample_bytree=0.9, gamma=0, learning_rate=0.1, max_depth=7, min_child_weight=5, n_estimators=300, subsample=0.7; total time=   0.6s\n",
      "[CV] END colsample_bytree=0.7, gamma=0.2, learning_rate=0.1, max_depth=7, min_child_weight=5, n_estimators=500, subsample=0.9; total time=   0.6s\n",
      "[CV] END colsample_bytree=0.7, gamma=0.2, learning_rate=0.1, max_depth=7, min_child_weight=5, n_estimators=500, subsample=0.9; total time=   0.9s\n",
      "[CV] END colsample_bytree=0.9, gamma=0, learning_rate=0.01, max_depth=7, min_child_weight=5, n_estimators=100, subsample=0.9; total time=   0.2s\n",
      "[CV] END colsample_bytree=0.9, gamma=0, learning_rate=0.01, max_depth=7, min_child_weight=5, n_estimators=100, subsample=0.9; total time=   0.3s\n",
      "[CV] END colsample_bytree=0.7, gamma=0.1, learning_rate=0.1, max_depth=3, min_child_weight=3, n_estimators=100, subsample=0.9; total time=   0.1s\n",
      "[CV] END colsample_bytree=0.9, gamma=0, learning_rate=0.01, max_depth=7, min_child_weight=5, n_estimators=100, subsample=0.9; total time=   0.2s\n",
      "[CV] END colsample_bytree=0.9, gamma=0, learning_rate=0.1, max_depth=7, min_child_weight=5, n_estimators=300, subsample=0.7; total time=   0.9s\n",
      "[CV] END colsample_bytree=0.7, gamma=0.1, learning_rate=0.1, max_depth=3, min_child_weight=3, n_estimators=100, subsample=0.9; total time=   0.1s\n",
      "[CV] END colsample_bytree=0.7, gamma=0.1, learning_rate=0.1, max_depth=3, min_child_weight=3, n_estimators=100, subsample=0.9; total time=   0.1s\n",
      "[CV] END colsample_bytree=0.9, gamma=0, learning_rate=0.1, max_depth=7, min_child_weight=5, n_estimators=300, subsample=0.7; total time=   0.8s\n",
      "[CV] END colsample_bytree=0.9, gamma=0.2, learning_rate=0.1, max_depth=7, min_child_weight=5, n_estimators=100, subsample=0.9; total time=   0.3s\n",
      "[CV] END colsample_bytree=0.7, gamma=0.1, learning_rate=0.1, max_depth=3, min_child_weight=3, n_estimators=500, subsample=0.7; total time=   0.5s\n",
      "[CV] END colsample_bytree=0.7, gamma=0.1, learning_rate=0.1, max_depth=3, min_child_weight=3, n_estimators=500, subsample=0.7; total time=   0.5s\n",
      "[CV] END colsample_bytree=0.9, gamma=0.2, learning_rate=0.1, max_depth=7, min_child_weight=5, n_estimators=100, subsample=0.9; total time=   0.2s\n",
      "[CV] END colsample_bytree=0.7, gamma=0.1, learning_rate=0.1, max_depth=3, min_child_weight=3, n_estimators=500, subsample=0.7; total time=   0.7s\n",
      "[CV] END colsample_bytree=0.9, gamma=0.2, learning_rate=0.1, max_depth=7, min_child_weight=5, n_estimators=100, subsample=0.9; total time=   0.2s\n",
      "[CV] END colsample_bytree=0.9, gamma=0.2, learning_rate=0.05, max_depth=5, min_child_weight=3, n_estimators=100, subsample=0.9; total time=   0.3s\n",
      "[CV] END colsample_bytree=0.9, gamma=0.2, learning_rate=0.05, max_depth=5, min_child_weight=3, n_estimators=100, subsample=0.9; total time=   0.1s\n",
      "[CV] END colsample_bytree=0.9, gamma=0.2, learning_rate=0.05, max_depth=5, min_child_weight=3, n_estimators=100, subsample=0.9; total time=   0.2s\n",
      "🔹 Melhores hiperparâmetros encontrados com RandomizedSearchCV:\n",
      "{'subsample': 0.9, 'n_estimators': 500, 'min_child_weight': 5, 'max_depth': 7, 'learning_rate': 0.1, 'gamma': 0.2, 'colsample_bytree': 0.7}\n",
      "🔹 Melhor Precisão: 0.9241\n",
      "Fitting 3 folds for each of 27 candidates, totalling 81 fits\n",
      "[CV] END colsample_bytree=0.7, gamma=0.2, learning_rate=0.07, max_depth=6, min_child_weight=5, n_estimators=500, subsample=0.9; total time=   0.7s\n",
      "[CV] END colsample_bytree=0.7, gamma=0.2, learning_rate=0.07, max_depth=6, min_child_weight=5, n_estimators=450, subsample=0.9; total time=   0.7s\n",
      "[CV] END colsample_bytree=0.7, gamma=0.2, learning_rate=0.07, max_depth=6, min_child_weight=5, n_estimators=450, subsample=0.9; total time=   0.8s\n",
      "[CV] END colsample_bytree=0.7, gamma=0.2, learning_rate=0.07, max_depth=6, min_child_weight=5, n_estimators=450, subsample=0.9; total time=   1.1s\n",
      "[CV] END colsample_bytree=0.7, gamma=0.2, learning_rate=0.07, max_depth=6, min_child_weight=5, n_estimators=500, subsample=0.9; total time=   0.7s\n",
      "[CV] END colsample_bytree=0.7, gamma=0.2, learning_rate=0.07, max_depth=6, min_child_weight=5, n_estimators=550, subsample=0.9; total time=   0.8s\n",
      "[CV] END colsample_bytree=0.7, gamma=0.2, learning_rate=0.07, max_depth=6, min_child_weight=5, n_estimators=500, subsample=0.9; total time=   0.9s\n",
      "[CV] END colsample_bytree=0.7, gamma=0.2, learning_rate=0.07, max_depth=6, min_child_weight=5, n_estimators=550, subsample=0.9; total time=   1.2s\n",
      "[CV] END colsample_bytree=0.7, gamma=0.2, learning_rate=0.07, max_depth=7, min_child_weight=5, n_estimators=450, subsample=0.9; total time=   0.9s\n",
      "[CV] END colsample_bytree=0.7, gamma=0.2, learning_rate=0.07, max_depth=6, min_child_weight=5, n_estimators=550, subsample=0.9; total time=   1.2s\n",
      "[CV] END colsample_bytree=0.7, gamma=0.2, learning_rate=0.07, max_depth=7, min_child_weight=5, n_estimators=450, subsample=0.9; total time=   1.2s\n",
      "[CV] END colsample_bytree=0.7, gamma=0.2, learning_rate=0.07, max_depth=7, min_child_weight=5, n_estimators=450, subsample=0.9; total time=   0.6s\n",
      "[CV] END colsample_bytree=0.7, gamma=0.2, learning_rate=0.07, max_depth=7, min_child_weight=5, n_estimators=500, subsample=0.9; total time=   0.8s\n",
      "[CV] END colsample_bytree=0.7, gamma=0.2, learning_rate=0.07, max_depth=7, min_child_weight=5, n_estimators=550, subsample=0.9; total time=   0.8s\n",
      "[CV] END colsample_bytree=0.7, gamma=0.2, learning_rate=0.07, max_depth=7, min_child_weight=5, n_estimators=500, subsample=0.9; total time=   0.9s\n",
      "[CV] END colsample_bytree=0.7, gamma=0.2, learning_rate=0.07, max_depth=7, min_child_weight=5, n_estimators=500, subsample=0.9; total time=   1.3s\n",
      "[CV] END colsample_bytree=0.7, gamma=0.2, learning_rate=0.07, max_depth=7, min_child_weight=5, n_estimators=550, subsample=0.9; total time=   0.9s\n",
      "[CV] END colsample_bytree=0.7, gamma=0.2, learning_rate=0.07, max_depth=8, min_child_weight=5, n_estimators=450, subsample=0.9; total time=   0.7s\n",
      "[CV] END colsample_bytree=0.7, gamma=0.2, learning_rate=0.07, max_depth=8, min_child_weight=5, n_estimators=450, subsample=0.9; total time=   0.8s\n",
      "[CV] END colsample_bytree=0.7, gamma=0.2, learning_rate=0.07, max_depth=7, min_child_weight=5, n_estimators=550, subsample=0.9; total time=   1.4s\n",
      "[CV] END colsample_bytree=0.7, gamma=0.2, learning_rate=0.07, max_depth=8, min_child_weight=5, n_estimators=450, subsample=0.9; total time=   0.9s\n",
      "[CV] END colsample_bytree=0.7, gamma=0.2, learning_rate=0.07, max_depth=8, min_child_weight=5, n_estimators=500, subsample=0.9; total time=   0.8s\n",
      "[CV] END colsample_bytree=0.7, gamma=0.2, learning_rate=0.07, max_depth=8, min_child_weight=5, n_estimators=550, subsample=0.9; total time=   0.8s\n",
      "[CV] END colsample_bytree=0.7, gamma=0.2, learning_rate=0.07, max_depth=8, min_child_weight=5, n_estimators=500, subsample=0.9; total time=   1.3s\n",
      "[CV] END colsample_bytree=0.7, gamma=0.2, learning_rate=0.07, max_depth=8, min_child_weight=5, n_estimators=550, subsample=0.9; total time=   0.9s\n",
      "[CV] END colsample_bytree=0.7, gamma=0.2, learning_rate=0.07, max_depth=8, min_child_weight=5, n_estimators=500, subsample=0.9; total time=   1.2s\n",
      "[CV] END colsample_bytree=0.7, gamma=0.2, learning_rate=0.1, max_depth=6, min_child_weight=5, n_estimators=450, subsample=0.9; total time=   0.6s\n",
      "[CV] END colsample_bytree=0.7, gamma=0.2, learning_rate=0.07, max_depth=8, min_child_weight=5, n_estimators=550, subsample=0.9; total time=   0.8s\n",
      "[CV] END colsample_bytree=0.7, gamma=0.2, learning_rate=0.1, max_depth=6, min_child_weight=5, n_estimators=450, subsample=0.9; total time=   0.8s\n",
      "[CV] END colsample_bytree=0.7, gamma=0.2, learning_rate=0.1, max_depth=6, min_child_weight=5, n_estimators=450, subsample=0.9; total time=   0.9s\n",
      "[CV] END colsample_bytree=0.7, gamma=0.2, learning_rate=0.1, max_depth=6, min_child_weight=5, n_estimators=500, subsample=0.9; total time=   0.6s\n",
      "[CV] END colsample_bytree=0.7, gamma=0.2, learning_rate=0.1, max_depth=6, min_child_weight=5, n_estimators=500, subsample=0.9; total time=   0.6s\n",
      "[CV] END colsample_bytree=0.7, gamma=0.2, learning_rate=0.1, max_depth=6, min_child_weight=5, n_estimators=500, subsample=0.9; total time=   0.9s\n",
      "[CV] END colsample_bytree=0.7, gamma=0.2, learning_rate=0.1, max_depth=6, min_child_weight=5, n_estimators=550, subsample=0.9; total time=   0.6s\n",
      "[CV] END colsample_bytree=0.7, gamma=0.2, learning_rate=0.1, max_depth=6, min_child_weight=5, n_estimators=550, subsample=0.9; total time=   0.8s\n",
      "[CV] END colsample_bytree=0.7, gamma=0.2, learning_rate=0.1, max_depth=6, min_child_weight=5, n_estimators=550, subsample=0.9; total time=   0.9s\n",
      "[CV] END colsample_bytree=0.7, gamma=0.2, learning_rate=0.1, max_depth=7, min_child_weight=5, n_estimators=450, subsample=0.9; total time=   0.6s\n",
      "[CV] END colsample_bytree=0.7, gamma=0.2, learning_rate=0.1, max_depth=7, min_child_weight=5, n_estimators=450, subsample=0.9; total time=   0.6s\n",
      "[CV] END colsample_bytree=0.7, gamma=0.2, learning_rate=0.1, max_depth=7, min_child_weight=5, n_estimators=450, subsample=0.9; total time=   0.8s\n",
      "[CV] END colsample_bytree=0.7, gamma=0.2, learning_rate=0.1, max_depth=7, min_child_weight=5, n_estimators=500, subsample=0.9; total time=   0.7s\n",
      "[CV] END colsample_bytree=0.7, gamma=0.2, learning_rate=0.1, max_depth=7, min_child_weight=5, n_estimators=500, subsample=0.9; total time=   0.9s\n",
      "[CV] END colsample_bytree=0.7, gamma=0.2, learning_rate=0.1, max_depth=7, min_child_weight=5, n_estimators=500, subsample=0.9; total time=   0.6s\n",
      "[CV] END colsample_bytree=0.7, gamma=0.2, learning_rate=0.1, max_depth=7, min_child_weight=5, n_estimators=550, subsample=0.9; total time=   0.7s\n",
      "[CV] END colsample_bytree=0.7, gamma=0.2, learning_rate=0.1, max_depth=7, min_child_weight=5, n_estimators=550, subsample=0.9; total time=   0.8s\n",
      "[CV] END colsample_bytree=0.7, gamma=0.2, learning_rate=0.1, max_depth=7, min_child_weight=5, n_estimators=550, subsample=0.9; total time=   0.8s\n",
      "[CV] END colsample_bytree=0.7, gamma=0.2, learning_rate=0.1, max_depth=8, min_child_weight=5, n_estimators=450, subsample=0.9; total time=   0.8s\n",
      "[CV] END colsample_bytree=0.7, gamma=0.2, learning_rate=0.1, max_depth=8, min_child_weight=5, n_estimators=450, subsample=0.9; total time=   0.8s\n",
      "[CV] END colsample_bytree=0.7, gamma=0.2, learning_rate=0.1, max_depth=8, min_child_weight=5, n_estimators=450, subsample=0.9; total time=   0.6s\n",
      "[CV] END colsample_bytree=0.7, gamma=0.2, learning_rate=0.1, max_depth=8, min_child_weight=5, n_estimators=500, subsample=0.9; total time=   0.9s\n",
      "[CV] END colsample_bytree=0.7, gamma=0.2, learning_rate=0.1, max_depth=8, min_child_weight=5, n_estimators=500, subsample=0.9; total time=   0.7s\n",
      "[CV] END colsample_bytree=0.7, gamma=0.2, learning_rate=0.1, max_depth=8, min_child_weight=5, n_estimators=500, subsample=0.9; total time=   0.7s\n",
      "[CV] END colsample_bytree=0.7, gamma=0.2, learning_rate=0.1, max_depth=8, min_child_weight=5, n_estimators=550, subsample=0.9; total time=   0.9s\n",
      "[CV] END colsample_bytree=0.7, gamma=0.2, learning_rate=0.1, max_depth=8, min_child_weight=5, n_estimators=550, subsample=0.9; total time=   0.7s\n",
      "[CV] END colsample_bytree=0.7, gamma=0.2, learning_rate=0.1, max_depth=8, min_child_weight=5, n_estimators=550, subsample=0.9; total time=   0.8s\n",
      "[CV] END colsample_bytree=0.7, gamma=0.2, learning_rate=0.13, max_depth=6, min_child_weight=5, n_estimators=450, subsample=0.9; total time=   0.6s\n",
      "[CV] END colsample_bytree=0.7, gamma=0.2, learning_rate=0.13, max_depth=6, min_child_weight=5, n_estimators=450, subsample=0.9; total time=   0.6s\n",
      "[CV] END colsample_bytree=0.7, gamma=0.2, learning_rate=0.13, max_depth=6, min_child_weight=5, n_estimators=450, subsample=0.9; total time=   0.7s\n",
      "[CV] END colsample_bytree=0.7, gamma=0.2, learning_rate=0.13, max_depth=6, min_child_weight=5, n_estimators=500, subsample=0.9; total time=   0.6s\n",
      "[CV] END colsample_bytree=0.7, gamma=0.2, learning_rate=0.13, max_depth=6, min_child_weight=5, n_estimators=500, subsample=0.9; total time=   0.5s\n",
      "[CV] END colsample_bytree=0.7, gamma=0.2, learning_rate=0.13, max_depth=6, min_child_weight=5, n_estimators=500, subsample=0.9; total time=   1.0s\n",
      "[CV] END colsample_bytree=0.7, gamma=0.2, learning_rate=0.13, max_depth=6, min_child_weight=5, n_estimators=550, subsample=0.9; total time=   0.7s\n",
      "[CV] END colsample_bytree=0.7, gamma=0.2, learning_rate=0.13, max_depth=6, min_child_weight=5, n_estimators=550, subsample=0.9; total time=   0.6s\n",
      "[CV] END colsample_bytree=0.7, gamma=0.2, learning_rate=0.13, max_depth=6, min_child_weight=5, n_estimators=550, subsample=0.9; total time=   1.1s\n",
      "[CV] END colsample_bytree=0.7, gamma=0.2, learning_rate=0.13, max_depth=7, min_child_weight=5, n_estimators=450, subsample=0.9; total time=   0.6s\n",
      "[CV] END colsample_bytree=0.7, gamma=0.2, learning_rate=0.13, max_depth=7, min_child_weight=5, n_estimators=450, subsample=0.9; total time=   1.1s\n",
      "[CV] END colsample_bytree=0.7, gamma=0.2, learning_rate=0.13, max_depth=7, min_child_weight=5, n_estimators=450, subsample=0.9; total time=   0.8s\n",
      "[CV] END colsample_bytree=0.7, gamma=0.2, learning_rate=0.13, max_depth=7, min_child_weight=5, n_estimators=500, subsample=0.9; total time=   0.6s\n",
      "[CV] END colsample_bytree=0.7, gamma=0.2, learning_rate=0.13, max_depth=7, min_child_weight=5, n_estimators=500, subsample=0.9; total time=   0.6s\n",
      "[CV] END colsample_bytree=0.7, gamma=0.2, learning_rate=0.13, max_depth=7, min_child_weight=5, n_estimators=550, subsample=0.9; total time=   0.6s\n",
      "[CV] END colsample_bytree=0.7, gamma=0.2, learning_rate=0.13, max_depth=7, min_child_weight=5, n_estimators=500, subsample=0.9; total time=   0.9s\n",
      "[CV] END colsample_bytree=0.7, gamma=0.2, learning_rate=0.13, max_depth=7, min_child_weight=5, n_estimators=550, subsample=0.9; total time=   0.9s\n",
      "[CV] END colsample_bytree=0.7, gamma=0.2, learning_rate=0.13, max_depth=7, min_child_weight=5, n_estimators=550, subsample=0.9; total time=   0.6s\n",
      "[CV] END colsample_bytree=0.7, gamma=0.2, learning_rate=0.13, max_depth=8, min_child_weight=5, n_estimators=450, subsample=0.9; total time=   0.6s\n",
      "[CV] END colsample_bytree=0.7, gamma=0.2, learning_rate=0.13, max_depth=8, min_child_weight=5, n_estimators=500, subsample=0.9; total time=   0.6s\n",
      "[CV] END colsample_bytree=0.7, gamma=0.2, learning_rate=0.13, max_depth=8, min_child_weight=5, n_estimators=450, subsample=0.9; total time=   0.8s\n",
      "[CV] END colsample_bytree=0.7, gamma=0.2, learning_rate=0.13, max_depth=8, min_child_weight=5, n_estimators=450, subsample=0.9; total time=   0.9s\n",
      "[CV] END colsample_bytree=0.7, gamma=0.2, learning_rate=0.13, max_depth=8, min_child_weight=5, n_estimators=500, subsample=0.9; total time=   0.6s\n",
      "[CV] END colsample_bytree=0.7, gamma=0.2, learning_rate=0.13, max_depth=8, min_child_weight=5, n_estimators=550, subsample=0.9; total time=   0.7s\n",
      "[CV] END colsample_bytree=0.7, gamma=0.2, learning_rate=0.13, max_depth=8, min_child_weight=5, n_estimators=500, subsample=0.9; total time=   0.9s\n",
      "[CV] END colsample_bytree=0.7, gamma=0.2, learning_rate=0.13, max_depth=8, min_child_weight=5, n_estimators=550, subsample=0.9; total time=   0.7s\n",
      "[CV] END colsample_bytree=0.7, gamma=0.2, learning_rate=0.13, max_depth=8, min_child_weight=5, n_estimators=550, subsample=0.9; total time=   0.5s\n",
      "\n",
      "🔹 Melhores hiperparâmetros encontrados com GridSearchCV:\n",
      "{'colsample_bytree': 0.7, 'gamma': 0.2, 'learning_rate': 0.1, 'max_depth': 6, 'min_child_weight': 5, 'n_estimators': 450, 'subsample': 0.9}\n",
      "🔹 Melhor Precisão após refinamento: 0.9263\n"
     ]
    }
   ],
   "source": [
    "# Configuração da semente para reprodutibilidade\n",
    "SEED = 42\n",
    "np.random.seed(SEED)\n",
    "\n",
    "# Criar a validação cruzada estratificada com menos divisões para reduzir o tempo\n",
    "cv = StratifiedKFold(n_splits=3, shuffle=True, random_state=SEED)  # Reduzimos de 5 para 3 para acelerar\n",
    "\n",
    "# Inicialização do modelo XGBoost\n",
    "xgb_model = XGBClassifier(\n",
    "    objective='binary:logistic',\n",
    "    eval_metric='logloss',\n",
    "    use_label_encoder=False,\n",
    "    random_state=SEED\n",
    ")\n",
    "\n",
    "# Grid de Hiperparâmetros ajustado para busca mais eficiente\n",
    "param_dist = {\n",
    "    'n_estimators': [100, 300, 500],  \n",
    "    'max_depth': [3, 5, 7],  \n",
    "    'learning_rate': [0.01, 0.05, 0.1],  \n",
    "    'subsample': [0.7, 0.9],  \n",
    "    'colsample_bytree': [0.7, 0.9],  \n",
    "    'gamma': [0, 0.1, 0.2],  \n",
    "    'min_child_weight': [1, 3, 5]  \n",
    "}\n",
    "\n",
    "# Configuração do RandomizedSearchCV (reduzimos as interações para acelerar)\n",
    "random_search = RandomizedSearchCV(\n",
    "    estimator=xgb_model,\n",
    "    param_distributions=param_dist,\n",
    "    n_iter=10,  # Reduzimos de 20 para 10 para agilizar\n",
    "    cv=cv,\n",
    "    scoring='precision',  \n",
    "    n_jobs=-1,\n",
    "    verbose=2,\n",
    "    random_state=SEED\n",
    ")\n",
    "\n",
    "# Treinamento do RandomizedSearchCV\n",
    "random_search.fit(X_train_bal, y_train_bal)\n",
    "\n",
    "# Melhor combinação de hiperparâmetros encontrada\n",
    "print(\"🔹 Melhores hiperparâmetros encontrados com RandomizedSearchCV:\")\n",
    "print(random_search.best_params_)\n",
    "\n",
    "# Melhor pontuação alcançada com esses hiperparâmetros\n",
    "print(f\"🔹 Melhor Precisão: {random_search.best_score_:.4f}\")\n",
    "\n",
    "# Refinando a busca com GridSearchCV usando os melhores hiperparâmetros\n",
    "best_params = random_search.best_params_\n",
    "\n",
    "# Ajustando uma faixa menor para refinar os hiperparâmetros\n",
    "param_grid = {\n",
    "    'n_estimators': [best_params['n_estimators'] - 50, best_params['n_estimators'], best_params['n_estimators'] + 50],\n",
    "    'max_depth': [max(3, best_params['max_depth'] - 1), best_params['max_depth'], best_params['max_depth'] + 1],\n",
    "    'learning_rate': [max(0.01, best_params['learning_rate'] - 0.03), best_params['learning_rate'], best_params['learning_rate'] + 0.03],\n",
    "    'subsample': [best_params['subsample']],  \n",
    "    'colsample_bytree': [best_params['colsample_bytree']],  \n",
    "    'gamma': [best_params['gamma']],  \n",
    "    'min_child_weight': [best_params['min_child_weight']]  \n",
    "}\n",
    "\n",
    "# Configuração do GridSearchCV para refinar os melhores hiperparâmetros\n",
    "grid_search = GridSearchCV(\n",
    "    estimator=xgb_model,\n",
    "    param_grid=param_grid,\n",
    "    cv=cv,\n",
    "    scoring='precision',  \n",
    "    n_jobs=-1,\n",
    "    verbose=2\n",
    ")\n",
    "\n",
    "# Treinamento do GridSearchCV\n",
    "grid_search.fit(X_train_bal, y_train_bal)\n",
    "\n",
    "# Melhor combinação de hiperparâmetros encontrada após refinamento\n",
    "print(\"\\n🔹 Melhores hiperparâmetros encontrados com GridSearchCV:\")\n",
    "print(grid_search.best_params_)\n",
    "\n",
    "# Melhor pontuação alcançada com esses hiperparâmetros refinados\n",
    "print(f\"🔹 Melhor Precisão após refinamento: {grid_search.best_score_:.4f}\")\n"
   ]
  },
  {
   "cell_type": "markdown",
   "metadata": {},
   "source": [
    "### 4.5 Ajuste de Threshold: Estratégia Focada em Alta Precisão\n",
    "\n",
    "A escolha do *threshold* de decisão influencia diretamente os resultados das previsões do modelo. Por padrão, classificadores baseados em probabilidades utilizam um **threshold de 0.5**, ou seja, qualquer previsão com probabilidade maior que 50% é classificada como positiva.\n",
    "\n",
    "Entretanto, **essa abordagem não é a ideal para o nosso problema**, pois o objetivo é **prever apenas com alta certeza aqueles que realmente vão concluir**.\n",
    "\n",
    "#### Justificativa para a Estratégia Adotada:\n",
    "\n",
    "> **Falso Positivo (FP)**, no nosso contexto, é prever que um aluno vai **concluir**, quando na verdade **ele irá evadir**.  \n",
    "> Esse é o **erro mais crítico**, pois leva a uma **falsa sensação de segurança** e impede a universidade de agir preventivamente.\n",
    "\n",
    "Por isso, optamos por: \n",
    "- **Alta Precisão**: Só classificamos como \"concluinte\" se a certeza for muito alta.\n",
    "- **Baixa Revocação** (aceitável): É melhor perder alguns concluintes verdadeiros do que errar ao assumir que um aluno em risco vai concluir.\n",
    "\n",
    "Essa decisão é ainda mais relevante considerando que:\n",
    "- O cenário da instituição já apresenta **alta evasão**.\n",
    "- É preferível errar por **excesso de cuidado (intervenção desnecessária)** do que por **omissão (deixar de intervir em quem realmente precisa)**.\n",
    "\n",
    "#### ✅ Estratégia Utilizada:\n",
    "\n",
    "🔹 **Treinamos o modelo XGBoost com os melhores hiperparâmetros ajustados**  \n",
    "🔹 **Calculamos Precisão e Revocação para diferentes thresholds**  \n",
    "🔹 **Selecionamos o threshold que mantém alta precisão, reduz falsos positivos e mantém revocação aceitável**  \n",
    "🔹 **Reavaliamos o modelo utilizando esse novo threshold ajustado (ex: 0.8)**\n",
    "\n",
    "---"
   ]
  },
  {
   "cell_type": "code",
   "execution_count": 52,
   "metadata": {},
   "outputs": [
    {
     "data": {
      "image/png": "[encoded data removed]",
      "text/plain": [
       "<Figure size 1000x500 with 1 Axes>"
      ]
     },
     "metadata": {},
     "output_type": "display_data"
    },
    {
     "name": "stdout",
     "output_type": "stream",
     "text": [
      "🔹 Threshold Selecionado (Alta Precisão e Revocação ≥ 90%): 0.80\n",
      " Relatório de Classificação com Threshold Ajustado:\n",
      "              precision    recall  f1-score   support\n",
      "\n",
      "   DESLIGADO       0.94      0.96      0.95      1117\n",
      "   CONCLUÍDO       0.89      0.83      0.86       396\n",
      "\n",
      "    accuracy                           0.93      1513\n",
      "   macro avg       0.92      0.90      0.91      1513\n",
      "weighted avg       0.93      0.93      0.93      1513\n",
      "\n",
      "Matriz de Confusão:\n",
      "[[1077   40]\n",
      " [  66  330]]\n"
     ]
    }
   ],
   "source": [
    "# Definir a semente para reprodutibilidade\n",
    "SEED = 42\n",
    "np.random.seed(SEED)\n",
    "\n",
    "# Criar a validação cruzada estratificada\n",
    "cv = StratifiedKFold(n_splits=3, shuffle=True, random_state=SEED)\n",
    "\n",
    "# Inicializar o modelo XGBoost com os melhores hiperparâmetros ajustados\n",
    "best_xgb_model = XGBClassifier(\n",
    "    colsample_bytree=0.7,\n",
    "    gamma=0.2,\n",
    "    learning_rate=0.1,\n",
    "    max_depth=6,\n",
    "    min_child_weight=5,\n",
    "    n_estimators=450,\n",
    "    subsample=0.9,\n",
    "    objective='binary:logistic',\n",
    "    eval_metric='logloss',\n",
    "    use_label_encoder=False,\n",
    "    random_state=SEED\n",
    ")\n",
    "\n",
    "# Obter previsões probabilísticas com validação cruzada\n",
    "y_scores = cross_val_predict(\n",
    "    best_xgb_model, X_train_bal, y_train_bal,\n",
    "    cv=cv, method=\"predict_proba\", n_jobs=-1\n",
    ")[:, 1]\n",
    "\n",
    "# Calcular Precisão e Recall para diferentes thresholds\n",
    "precisions, recalls, thresholds = precision_recall_curve(y_train_bal, y_scores)\n",
    "\n",
    "# ⚠️ Definir a revocação mínima aceitável\n",
    "revocacao_minima = 0.90\n",
    "\n",
    "# Filtrar índices onde a revocação é maior que o limite mínimo\n",
    "valid_indices = np.where(recalls[:-1] >= revocacao_minima)[0]\n",
    "\n",
    "# Se houver thresholds que atendem ao critério de revocação\n",
    "if len(valid_indices) > 0:\n",
    "    best_idx = valid_indices[np.argmax(precisions[valid_indices])]\n",
    "    best_threshold_prec = thresholds[best_idx]\n",
    "else:\n",
    "    print(\"Nenhum threshold atende ao critério de revocação mínima. Usando o que maximiza F1.\")\n",
    "    f1_scores = 2 * (precisions * recalls) / (precisions + recalls)\n",
    "    best_threshold_prec = thresholds[np.argmax(f1_scores)]\n",
    "\n",
    "# 📊 Plotando o gráfico de trade-off\n",
    "plt.figure(figsize=(10, 5))\n",
    "plt.plot(thresholds, precisions[:-1], 'b--', label='Precisão')\n",
    "plt.plot(thresholds, recalls[:-1], 'g-', label='Recall')\n",
    "plt.axvline(x=best_threshold_prec, color='red', linestyle='--', label=f'Threshold = {best_threshold_prec:.2f}')\n",
    "plt.xlabel('Threshold')\n",
    "plt.ylabel('Score')\n",
    "plt.title(f'Trade-off Precisão x Recall - Threshold com Revocação ≥ {revocacao_minima:.0%}')\n",
    "plt.legend(loc='center right')\n",
    "plt.ylim([0, 1])\n",
    "plt.grid()\n",
    "plt.show()\n",
    "\n",
    "# Exibir o threshold final escolhido\n",
    "print(f\"🔹 Threshold Selecionado (Alta Precisão e Revocação ≥ {revocacao_minima:.0%}): {best_threshold_prec:.2f}\")\n",
    "\n",
    "# Treinar modelo final\n",
    "best_xgb_model.fit(X_train_bal, y_train_bal)\n",
    "\n",
    "# Aplicar threshold no conjunto de teste\n",
    "y_pred_adjusted = (best_xgb_model.predict_proba(X_test)[:, 1] >= best_threshold_prec).astype(int)\n",
    "\n",
    "print(\" Relatório de Classificação com Threshold Ajustado:\")\n",
    "print(classification_report(y_test, y_pred_adjusted, target_names=[\"DESLIGADO\", \"CONCLUÍDO\"]))\n",
    "\n",
    "print(\"Matriz de Confusão:\")\n",
    "print(confusion_matrix(y_test, y_pred_adjusted))\n"
   ]
  },
  {
   "cell_type": "markdown",
   "metadata": {},
   "source": [
    "### 4.6 Avaliação Final do Modelo\n",
    "\n",
    "Após otimizar o modelo **XGBoost**, realizamos a **avaliação final** considerando o threshold ajustado.  \n",
    "A matriz de confusão e as métricas ajustadas nos permitem entender como o modelo se comporta em termos de **erros e acertos**.\n",
    "\n",
    "#### 🔹 Ajustes Finais:\n",
    "- **Threshold ajustado** para `0.44` baseado no **trade-off entre Precisão e Recall**.\n",
    "- **Validação cruzada com `StratifiedKFold` (5 folds)** para reduzir variações nos resultados.\n",
    "- **Geração da Matriz de Confusão** para entender erros do modelo.\n",
    "\n",
    "#### 🔹 Interpretação da Matriz de Confusão:\n",
    "A matriz de confusão nos ajuda a visualizar:\n",
    "- **Verdadeiros Positivos (VP)** → Casos corretamente previstos como evasão.\n",
    "- **Falsos Positivos (FP)** → Casos incorretamente previstos como evasão.\n",
    "- **Verdadeiros Negativos (VN)** → Casos corretamente previstos como não evasão.\n",
    "- **Falsos Negativos (FN)** → Casos incorretamente previstos como não evasão.\n",
    "\n",
    "---\n"
   ]
  },
  {
   "cell_type": "code",
   "execution_count": 53,
   "metadata": {},
   "outputs": [
    {
     "name": "stdout",
     "output_type": "stream",
     "text": [
      "🔹 Nova Precisão: 0.9469\n",
      "🔹 Novo Recall: 0.9099\n"
     ]
    },
    {
     "data": {
      "image/png": "[encoded data removed]",
      "text/plain": [
       "<Figure size 640x480 with 2 Axes>"
      ]
     },
     "metadata": {},
     "output_type": "display_data"
    },
    {
     "name": "stdout",
     "output_type": "stream",
     "text": [
      "📊 Relatório de Classificação com Threshold Ajustado:\n",
      "              precision    recall  f1-score   support\n",
      "\n",
      "           0     0.9133    0.9490    0.9308      2607\n",
      "           1     0.9469    0.9099    0.9280      2607\n",
      "\n",
      "    accuracy                         0.9294      5214\n",
      "   macro avg     0.9301    0.9294    0.9294      5214\n",
      "weighted avg     0.9301    0.9294    0.9294      5214\n",
      "\n"
     ]
    }
   ],
   "source": [
    "# Definir a semente para reprodutibilidade\n",
    "SEED = 42\n",
    "np.random.seed(SEED)\n",
    "\n",
    "# Criar a validação cruzada estratificada (5 folds para maior estabilidade)\n",
    "cv = StratifiedKFold(n_splits=5, shuffle=True, random_state=SEED)\n",
    "\n",
    "# Inicializar o modelo XGBoost com os melhores hiperparâmetros ajustados\n",
    "best_xgb_model = XGBClassifier(\n",
    "    colsample_bytree=0.7,\n",
    "    gamma=0.2,\n",
    "    learning_rate=0.1,\n",
    "    max_depth=6,\n",
    "    min_child_weight=5,\n",
    "    n_estimators=450,\n",
    "    subsample=0.9,\n",
    "    objective='binary:logistic',\n",
    "    eval_metric='logloss',\n",
    "    use_label_encoder=False,\n",
    "    random_state=SEED\n",
    ")\n",
    "\n",
    "# Obter previsões probabilísticas usando validação cruzada\n",
    "y_scores = cross_val_predict(best_xgb_model, X_train_bal, y_train_bal, cv=cv, method=\"predict_proba\")[:, 1]\n",
    "\n",
    "# Aplicando o melhor threshold encontrado (0.80)\n",
    "threshold = 0.80\n",
    "y_train_pred_threshold = (y_scores > threshold).astype(int)\n",
    "\n",
    "# Comparar os scores com o novo threshold\n",
    "print('🔹 Nova Precisão: {:.4f}'.format(precision_score(y_train_bal, y_train_pred_threshold)))\n",
    "print('🔹 Novo Recall: {:.4f}'.format(recall_score(y_train_bal, y_train_pred_threshold)))\n",
    "\n",
    "# Gerar a Matriz de Confusão\n",
    "matriz_confusao = confusion_matrix(y_train_bal, y_train_pred_threshold)\n",
    "disp = ConfusionMatrixDisplay(confusion_matrix=matriz_confusao)\n",
    "disp.plot(cmap=\"Blues\", values_format=\"d\")  \n",
    "plt.title(f\"Matriz de Confusão - XGBoost (Threshold = {threshold})\")\n",
    "plt.show()\n",
    "\n",
    "# Exibir Relatório de Classificação\n",
    "print(\"📊 Relatório de Classificação com Threshold Ajustado:\")\n",
    "print(classification_report(y_train_bal, y_train_pred_threshold, digits=4))\n"
   ]
  },
  {
   "cell_type": "markdown",
   "metadata": {},
   "source": [
    "### 4.7 Teste do Modelo na Base de Teste (Sem Ajuste de Threshold)\n",
    "\n",
    "Agora que o modelo **XGBoost** foi treinado e validado, testamos sua performance na **base de teste**.\n",
    "\n",
    "#### 🔹 Estratégia:\n",
    "- Avaliamos o modelo usando **previsões diretas** (`predict`), que por padrão utilizam um **threshold de 0.5**.\n",
    "- Calculamos **Acurácia, Precisão, Recall e F1-Score** para entender o desempenho antes do ajuste de threshold.\n",
    "- Geramos a **Matriz de Confusão** para visualizar erros do modelo.\n",
    "\n",
    "#### 🔹 Importância:\n",
    "- Esse teste nos permite **comparar os resultados antes e depois da aplicação do threshold ajustado**.\n",
    "- Como visto na análise anterior, o **threshold padrão de 0.5 pode não ser o ideal**, pois há um trade-off entre **Precisão e Recall**.\n",
    "\n",
    "---\n"
   ]
  },
  {
   "cell_type": "code",
   "execution_count": 54,
   "metadata": {},
   "outputs": [
    {
     "name": "stdout",
     "output_type": "stream",
     "text": [
      "\n",
      "🔍 Avaliação SEM ajuste de threshold:\n",
      "Acurácia: 0.930601454064772\n",
      "Precisão: 0.8423529411764706\n",
      "Recall: 0.9040404040404041\n",
      "\n",
      "📊 Relatório de Classificação SEM ajuste de threshold:\n",
      "               precision    recall  f1-score   support\n",
      "\n",
      "           0     0.9651    0.9400    0.9524      1117\n",
      "           1     0.8424    0.9040    0.8721       396\n",
      "\n",
      "    accuracy                         0.9306      1513\n",
      "   macro avg     0.9037    0.9220    0.9122      1513\n",
      "weighted avg     0.9330    0.9306    0.9314      1513\n",
      "\n"
     ]
    },
    {
     "data": {
      "image/png": "[encoded data removed]",
      "text/plain": [
       "<Figure size 640x480 with 2 Axes>"
      ]
     },
     "metadata": {},
     "output_type": "display_data"
    }
   ],
   "source": [
    "from sklearn.metrics import accuracy_score, precision_score, recall_score, classification_report, confusion_matrix, ConfusionMatrixDisplay\n",
    "\n",
    "# Inicializar o modelo XGBoost com os melhores hiperparâmetros ajustados\n",
    "best_xgb_model = XGBClassifier(\n",
    "    colsample_bytree=0.7,\n",
    "    gamma=0.2,\n",
    "    learning_rate=0.1,\n",
    "    max_depth=6,\n",
    "    min_child_weight=5,\n",
    "    n_estimators=450,\n",
    "    subsample=0.9,\n",
    "    objective='binary:logistic',\n",
    "    eval_metric='logloss',\n",
    "    use_label_encoder=False,\n",
    "    random_state=SEED\n",
    ")\n",
    "\n",
    "# Treinar o modelo na base de treino\n",
    "best_xgb_model.fit(X_train_bal, y_train_bal)\n",
    "\n",
    "# Previsões na base de teste SEM ajuste de threshold (uso padrão do modelo)\n",
    "y_test_pred_default = best_xgb_model.predict(X_test)\n",
    "\n",
    "# Avaliação SEM ajuste de threshold\n",
    "print(\"\\n🔍 Avaliação SEM ajuste de threshold:\")\n",
    "print(\"Acurácia:\", accuracy_score(y_test, y_test_pred_default))\n",
    "print(\"Precisão:\", precision_score(y_test, y_test_pred_default))\n",
    "print(\"Recall:\", recall_score(y_test, y_test_pred_default))\n",
    "print(\"\\n📊 Relatório de Classificação SEM ajuste de threshold:\\n\", classification_report(y_test, y_test_pred_default, digits=4))\n",
    "\n",
    "# Gerando Matriz de Confusão\n",
    "matriz_confusao_default = confusion_matrix(y_test, y_test_pred_default)\n",
    "disp = ConfusionMatrixDisplay(confusion_matrix=matriz_confusao_default)\n",
    "disp.plot(cmap=\"Blues\", values_format=\"d\")  \n",
    "plt.title(\"Matriz de Confusão - XGBoost (SEM ajuste de Threshold)\")\n",
    "plt.show()\n"
   ]
  },
  {
   "cell_type": "markdown",
   "metadata": {},
   "source": [
    "### 4.8 Teste do Modelo na Base de Teste (Com Threshold Ajustado)\n",
    "\n",
    "Após ajustar o modelo **XGBoost**, realizamos um novo teste na **base de teste**, desta vez aplicando o **threshold otimizado (`0.44`)**.\n",
    "\n",
    "### 🔹 Estratégia:\n",
    "- Em vez de usar a previsão padrão do modelo (`predict`), utilizamos `predict_proba` para obter as **probabilidades das previsões**.\n",
    "- Aplicamos o **threshold de 0.44**, ajustado anteriormente no trade-off entre **Precisão e Recall**.\n",
    "- Calculamos novamente as métricas **Acurácia, Precisão, Recall e F1-Score** para comparar com os resultados anteriores.\n",
    "- Geramos uma **Matriz de Confusão** para visualizar as mudanças nos erros do modelo.\n",
    "\n",
    "### 🔹 Objetivo:\n",
    "- Comparar os resultados **com e sem threshold ajustado**.\n",
    "- Avaliar o impacto do threshold na **detecção de evasão**.\n",
    "\n",
    "---\n"
   ]
  },
  {
   "cell_type": "code",
   "execution_count": 55,
   "metadata": {},
   "outputs": [
    {
     "name": "stdout",
     "output_type": "stream",
     "text": [
      "\n",
      "🔍 Avaliação COM ajuste de threshold (0.8):\n",
      "Acurácia: 0.9299405155320555\n",
      "Precisão: 0.8918918918918919\n",
      "Recall: 0.8333333333333334\n",
      "\n",
      "📊 Relatório de Classificação COM ajuste de threshold:\n",
      "               precision    recall  f1-score   support\n",
      "\n",
      "           0     0.9423    0.9642    0.9531      1117\n",
      "           1     0.8919    0.8333    0.8616       396\n",
      "\n",
      "    accuracy                         0.9299      1513\n",
      "   macro avg     0.9171    0.8988    0.9074      1513\n",
      "weighted avg     0.9291    0.9299    0.9292      1513\n",
      "\n"
     ]
    },
    {
     "data": {
      "image/png": "[encoded data removed]",
      "text/plain": [
       "<Figure size 640x480 with 2 Axes>"
      ]
     },
     "metadata": {},
     "output_type": "display_data"
    }
   ],
   "source": [
    "# TESTE 2 - Com Threshold Ajustado (0.80)\n",
    "threshold = 0.8\n",
    "\n",
    "# Obter probabilidades de previsão\n",
    "y_test_scores = best_xgb_model.predict_proba(X_test)[:, 1]\n",
    "\n",
    "# Aplicar o Threshold Ajustado\n",
    "y_test_pred_threshold = (y_test_scores > threshold).astype(int)\n",
    "\n",
    "# Avaliação COM ajuste de threshold\n",
    "print(f\"\\n🔍 Avaliação COM ajuste de threshold ({threshold}):\")\n",
    "print(\"Acurácia:\", accuracy_score(y_test, y_test_pred_threshold))\n",
    "print(\"Precisão:\", precision_score(y_test, y_test_pred_threshold))\n",
    "print(\"Recall:\", recall_score(y_test, y_test_pred_threshold))\n",
    "print(\"\\n📊 Relatório de Classificação COM ajuste de threshold:\\n\", classification_report(y_test, y_test_pred_threshold, digits=4))\n",
    "\n",
    "# Gerando Matriz de Confusão\n",
    "matriz_confusao_threshold = confusion_matrix(y_test, y_test_pred_threshold)\n",
    "disp = ConfusionMatrixDisplay(confusion_matrix=matriz_confusao_threshold)\n",
    "disp.plot(cmap=\"Blues\", values_format=\"d\")  \n",
    "plt.title(f\"Matriz de Confusão - XGBoost (Threshold Ajustado = {threshold})\")\n",
    "plt.show()\n"
   ]
  },
  {
   "cell_type": "markdown",
   "metadata": {},
   "source": [
    "### 4.9 Salvando o Modelo Treinado\n",
    "\n",
    "Agora que o modelo **XGBoost** foi treinado e avaliado, salvamos sua versão final para futuras previsões.\n",
    "\n",
    "### 🔹 Arquivos Salvos:\n",
    "📌 O modelo foi salvo no formato `.pkl` com `joblib`, garantindo uma **carregamento eficiente**.\n",
    "\n",
    "---\n"
   ]
  },
  {
   "cell_type": "code",
   "execution_count": 56,
   "metadata": {},
   "outputs": [
    {
     "name": "stdout",
     "output_type": "stream",
     "text": [
      "✅ Modelo salvo com sucesso\n"
     ]
    }
   ],
   "source": [
    "\n",
    "# Salvar o modelo treinado em um arquivo\n",
    "joblib.dump(best_xgb_model, \"Model/model_xgboost_prever_conclusao_13_02.pkl\")\n",
    "\n",
    "print(f\"✅ Modelo salvo com sucesso\")"
   ]
  }
 ],
 "metadata": {
  "kernelspec": {
   "display_name": "base",
   "language": "python",
   "name": "python3"
  },
  "language_info": {
   "codemirror_mode": {
    "name": "ipython",
    "version": 3
   },
   "file_extension": ".py",
   "mimetype": "text/x-python",
   "name": "python",
   "nbconvert_exporter": "python",
   "pygments_lexer": "ipython3",
   "version": "3.11.5"
  }
 },
 "nbformat": 4,
 "nbformat_minor": 4
}
